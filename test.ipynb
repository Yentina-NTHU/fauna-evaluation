{
 "cells": [
  {
   "cell_type": "code",
   "execution_count": 82,
   "metadata": {},
   "outputs": [],
   "source": [
    "OPENAI_API_KEY=''"
   ]
  },
  {
   "cell_type": "code",
   "execution_count": 83,
   "metadata": {},
   "outputs": [],
   "source": [
    "from openai import OpenAI\n",
    "client = OpenAI(api_key=OPENAI_API_KEY)"
   ]
  },
  {
   "cell_type": "code",
   "execution_count": 84,
   "metadata": {},
   "outputs": [],
   "source": [
    "MAX_TOKEN = 6000\n",
    "MAX_CHAT = 10\n",
    "SCENARIO_ID = 1\n",
    "PERSONA = 'rebellious_people'\n",
    "AGENT_NAME = 'sparky'"
   ]
  },
  {
   "cell_type": "code",
   "execution_count": 85,
   "metadata": {},
   "outputs": [],
   "source": [
    "from enum import Enum\n",
    "from pydantic import BaseModel\n",
    "\n",
    "class UserAction(str, Enum):\n",
    "    say = \"say\"\n",
    "    leave = \"leave\"\n",
    "\n",
    "class UserResponse(BaseModel):\n",
    "    action: UserAction\n",
    "    answer: str"
   ]
  },
  {
   "cell_type": "code",
   "execution_count": 86,
   "metadata": {},
   "outputs": [],
   "source": [
    "import json\n",
    "class Person:\n",
    "    def __init__(self, scenarioID: int, persona: str):\n",
    "\n",
    "        scenarioFile = open(f'./user/{AGENT_NAME}/scenario{scenarioID}.txt', 'r')\n",
    "        scenario = scenarioFile.read()\n",
    "        scenarioFile.close()\n",
    "\n",
    "        personaFile = open(f'./persona/{persona}.txt', 'r')\n",
    "        persona = personaFile.read()\n",
    "        personaFile.close()\n",
    "        example = '''\n",
    "                    Example1:\n",
    "                    Input: Are you looking for relaxation techniques or some fun trivia games to de-stress? Let me help you find the best fit!\n",
    "                    Output: {action: say, answer: 'I am looking for relaxation techniques'}\n",
    "                    Example2:\n",
    "                    Input: There's a wonderful bear named Bruno who specializes in relaxation techniques. Would you like to meet him for some calming mindfulness tips?\n",
    "                    Output: {action: leave, answer: 'Yes, meeting Bruno sounds lovely! I would love to get some calming mindfulness tips from him.'}\n",
    "                  '''\n",
    "        systemPrompt = f'You are a user talking to AI APP which can help you deal with your problem during break time. \\\n",
    "                            This is your persona: {persona}\\\n",
    "                            Please play the role according to the scenario: {scenario}\\\n",
    "                            Use Action → Answer structure for responses.\\\n",
    "                            Available Actions:\\\n",
    "                            1. say: respond base on persona and scenario\\\n",
    "                            2. leave: leave the chat when you think the conversation is over, no need to continue\\\n",
    "                            Examples:\\n{example}'\n",
    "        # print(systemPrompt)\n",
    "\n",
    "        self.messages = [\n",
    "            {'role': 'system', 'content': systemPrompt}, \n",
    "        ]\n",
    "        self.leaveChat = False\n",
    "    \n",
    "    def say(self):\n",
    "        response = client.chat.completions.create(\n",
    "            model=\"gpt-4o-mini\",\n",
    "            messages=self.messages,\n",
    "            response_format={\n",
    "                'type': 'json_schema',\n",
    "                'json_schema': \n",
    "                    {\n",
    "                        \"name\":\"whocares\", \n",
    "                        \"schema\": UserResponse.model_json_schema()\n",
    "                    }\n",
    "            }\n",
    "        )\n",
    "\n",
    "        message = response.choices[0].message.content\n",
    "        self.messages.append({'role': 'assistant', 'content': message})\n",
    "\n",
    "        # str to dict\n",
    "        message = json.loads(message)\n",
    "        self.leaveChat = (message['action'] == 'leave')\n",
    "\n",
    "        info = {\n",
    "            'token': response.usage.total_tokens,\n",
    "        }\n",
    "        \n",
    "        return message['answer'], info\n",
    "    \n",
    "    def listen(self, message: str):\n",
    "        self.messages.append({'role': 'user', 'content': message})\n",
    "\n",
    "        "
   ]
  },
  {
   "cell_type": "code",
   "execution_count": 87,
   "metadata": {},
   "outputs": [
    {
     "name": "stdout",
     "output_type": "stream",
     "text": [
      "('What does this app do?', {'token': 372})\n"
     ]
    }
   ],
   "source": [
    "test = Person(SCENARIO_ID, PERSONA)\n",
    "ans = test.say()\n",
    "print(ans)"
   ]
  },
  {
   "cell_type": "code",
   "execution_count": 88,
   "metadata": {},
   "outputs": [],
   "source": [
    "class sparkyActionV0(str, Enum):\n",
    "    call_bruno = \"call_bruno\"\n",
    "    call_bizy = \"call_bizy\"\n",
    "    ask_more = \"ask_more\"\n",
    "    introduce_bruno = \"introduce_bruno\"\n",
    "    introduce_bizy = \"introduce_bizy\"\n",
    "    advise = \"advise\"\n",
    "\n",
    "class sparkyActionV1(str, Enum):\n",
    "    guide_to_bruno = \"guide_to_bruno\"\n",
    "    guide_to_bizy = \"guide_to_bizy\"\n",
    "    explore = \"explore\"\n",
    "    introduce_bruno = \"introduce_bruno\"\n",
    "    introduce_bizy = \"introduce_bizy\""
   ]
  },
  {
   "cell_type": "code",
   "execution_count": 89,
   "metadata": {},
   "outputs": [],
   "source": [
    "class bizyActionV0(str, Enum):\n",
    "    greet = \"greet\"\n",
    "    start_analysis = \"start_analysis\"\n",
    "    analysing = \"analysing\"\n",
    "    finish_analysis = \"finish_analysis\"\n",
    "    ask_excuse = \"ask_excuse\"\n",
    "    change_excuse = \"change_excuse\"\n",
    "    advise = \"advise\""
   ]
  },
  {
   "cell_type": "code",
   "execution_count": 90,
   "metadata": {},
   "outputs": [],
   "source": [
    "class AgentResponse(BaseModel):\n",
    "    #user_problem: str\n",
    "    action: sparkyActionV1\n",
    "    answer: str"
   ]
  },
  {
   "cell_type": "code",
   "execution_count": 105,
   "metadata": {},
   "outputs": [],
   "source": [
    "import time\n",
    "import json\n",
    "\n",
    "class Animal:\n",
    "    def __init__(self, name, version: str):\n",
    "\n",
    "        self.agent_name = name\n",
    "        agentFile = open(f'./agent/{name}_{version}.txt', 'r')\n",
    "        agentPrompt = agentFile.read()\n",
    "        agentFile.close()\n",
    "\n",
    "        # create assistant and thread\n",
    "        self.assistant = client.beta.assistants.create(\n",
    "            name = self.agent_name,\n",
    "            instructions = agentPrompt,\n",
    "            model=\"gpt-4o-mini\",\n",
    "            response_format={\n",
    "                'type': 'json_schema',\n",
    "                'json_schema': \n",
    "                    {\n",
    "                        \"name\":\"whocares\", \n",
    "                        \"schema\": AgentResponse.model_json_schema()\n",
    "                    }\n",
    "            }\n",
    "        )\n",
    "        self.thread = client.beta.threads.create()\n",
    "        self.user_message = 'hello'\n",
    "    \n",
    "    def create_thread(self):\n",
    "        self.thread = client.beta.threads.create()\n",
    "\n",
    "    def say(self):\n",
    "\n",
    "        prompt = client.beta.threads.messages.create(\n",
    "            thread_id = self.thread.id,\n",
    "            role = \"user\",\n",
    "            content = self.user_message\n",
    "        )\n",
    "\n",
    "        run = client.beta.threads.runs.create_and_poll(\n",
    "            thread_id=self.thread.id,\n",
    "            assistant_id=self.assistant.id,\n",
    "        )\n",
    "\n",
    "        while True:\n",
    "            runData = client.beta.threads.runs.retrieve(\n",
    "                thread_id=self.thread.id,\n",
    "                run_id=run.id\n",
    "            )\n",
    "\n",
    "            if runData.status == 'completed': \n",
    "                response = client.beta.threads.messages.list(\n",
    "                    thread_id=self.thread.id\n",
    "                )\n",
    "                message = json.loads(response.data[0].content[0].text.value)\n",
    "\n",
    "                info = {\n",
    "                    'token': runData.usage.total_tokens,\n",
    "                    'action': message['action']\n",
    "                }\n",
    "                #return message['answer'], message['user_problem'], info\n",
    "                return message['answer'], info\n",
    "\n",
    "            else:\n",
    "                print(\"runData.status\")\n",
    "                time.sleep(2) \n",
    "\n",
    "\n",
    "    def listen(self, message: str):\n",
    "        self.user_message = message\n",
    "\n",
    "    def delete_assistant(self):\n",
    "        # Delete the assistant after all tasks are done\n",
    "        client.beta.assistants.delete(\n",
    "            assistant_id=self.assistant.id\n",
    "        )\n",
    "        print(f\"Assistant {self.agent_name} deleted.\")\n",
    "    "
   ]
  },
  {
   "cell_type": "code",
   "execution_count": 106,
   "metadata": {},
   "outputs": [
    {
     "name": "stdout",
     "output_type": "stream",
     "text": [
      "(\"Hello there, friend! 🌟 What brings you to the forest today? I'm here to help!\", 'User greeted warmly.', {'token': 542, 'action': 'explore'})\n",
      "('Sounds like you might need a break! Let me introduce you to Bruno, the mindful bear who can help you relax and recharge!', 'I feel tired.', {'token': 597, 'action': 'introduce_bruno'})\n",
      "Assistant sparky deleted.\n"
     ]
    }
   ],
   "source": [
    "test = Animal(name = AGENT_NAME, version='V0')\n",
    "print(test.say())\n",
    "test.listen('i feel tired')\n",
    "print(test.say())\n",
    "\n",
    "test.delete_assistant()"
   ]
  },
  {
   "cell_type": "code",
   "execution_count": 93,
   "metadata": {},
   "outputs": [],
   "source": [
    "class responseType(str, Enum):\n",
    "    perfectly_match = \"Perfectly Match\"\n",
    "    good_response = \"Good Response\"\n",
    "    bad_response = \"Bad Response\""
   ]
  },
  {
   "cell_type": "code",
   "execution_count": 94,
   "metadata": {},
   "outputs": [],
   "source": [
    "from pydantic import BaseModel\n",
    "\n",
    "class EvaluatorResponse(BaseModel):\n",
    "    accuracy: int\n",
    "    practicality: int\n",
    "\n",
    "class OverallEvaluatorResponse(BaseModel):\n",
    "    type: responseType\n",
    "    reason: str"
   ]
  },
  {
   "cell_type": "code",
   "execution_count": 95,
   "metadata": {},
   "outputs": [],
   "source": [
    "import json\n",
    "class Evaluator():\n",
    "    def __init__(self, agentName: str, scenarioID: int) -> None:\n",
    "\n",
    "        systemPrompt = '''You are an evaluator. I will provide you with a user’s statement and an agent’s response.\n",
    "                            You should evaluate the accuracy and practicality base on the scenario.\n",
    "                            - Accuracy: Score from 0 to 10. This measures whether the model’s response appropriately addresses the user’s statement.\n",
    "                            - Practicality: Score from 0 to 10. This evaluates whether the model’s suggestion is helpful to the user.\n",
    "                        '''\n",
    "        \n",
    "        with open(f'./evaluator/{agentName}/scenario{scenarioID}.txt', 'r') as file:\n",
    "            systemPrompt += file.read()\n",
    "        with open(f'./evaluator/examples.txt', 'r') as file:\n",
    "            systemPrompt += file.read()\n",
    "    \n",
    "        self.messages = [\n",
    "            {'role': 'system', 'content': systemPrompt}, \n",
    "        ]\n",
    "        \n",
    "    def evaluate(self, personMessage: str, animalMessage: str):\n",
    "        self.messages.append({'role': 'user', 'content': f'User: {personMessage}\\nAgent: {animalMessage}'})\n",
    "        response = client.chat.completions.create(\n",
    "            model=\"gpt-4o-mini\",\n",
    "            messages=self.messages,\n",
    "            response_format={\n",
    "                'type': 'json_schema',\n",
    "                'json_schema': \n",
    "                    {\n",
    "                        \"name\":\"whocares\", \n",
    "                        \"schema\": EvaluatorResponse.model_json_schema()\n",
    "                    }\n",
    "            }\n",
    "        )\n",
    "\n",
    "        message = json.loads(response.choices[0].message.content)\n",
    "    \n",
    "        return message['accuracy'], message['practicality']\n",
    "    \n",
    "    def overall_evaluate(self, dialogues: list, agentName, scenarioID):\n",
    "        overall_systemPrompt = ''' You are an evaluator. Now You have to evaluate agent's behavior.\n",
    "                                I will provide you:\n",
    "                                {Information}: Things you need to know before evaluate this agent\n",
    "                                {Scenario}: Scenario of this dialogue and the expect agent behavior.\n",
    "                                {Dialogue}: Dialogue between user and agent\n",
    "                                \n",
    "                                You should classify the agent's response into one of the following types:\n",
    "                                1. 'Perfectly Match' : Match at least one of the expected agent behaviors we provided.\n",
    "                                2. 'Good Response' : Response can fit user's need but not match any of the expected agent behaviors.\n",
    "                                3. 'Bad Response' : Didn't match the expected agent behavior we provided, and can not help the user or not practical.\n",
    "\n",
    "                                For Reason, please be concise and brief, reply less than 15 words. \n",
    "                                    Perfectly Match: Match which behavior.\n",
    "                                    Good Response: How it can help the user.\n",
    "                                    Bad Response: Why it can not help the user.\n",
    "\n",
    "                                NOTICE:\n",
    "                                1. User's question and answer might lead to different types of agent responses. It's important to consider both scenario expect behavior and the whole dialogue before making a decision.\n",
    "\n",
    "                            '''\n",
    "        # overall_systemPrompt += '''\n",
    "        #     Scenario:\n",
    "        #     - Description: You are facing difficulties or feeling down in a romantic relationship and seeks emotional support.\n",
    "        #     - Expect Agent Behavior:\n",
    "        #         1. Provide emotional support.\n",
    "\n",
    "        #     Example1:\n",
    "        #     User: I'm feeling really sad because my relationship isn't going well. Is there anything that could help comfort me?,\n",
    "        #     Agent: I'm really sorry to hear that! I know a wonderful owl named Bruno who specializes in mindfulness and relaxation. Would you like to meet him for some comfort and techniques to help you through this?,714,9,8\n",
    "        #     User: \"Yes, meeting Bruno sounds lovely! I would love to get some comfort and mindfulness techniques from him.\",\n",
    "        #     Agent: Fantastic! Bruno will be thrilled to help you find some comfort and mindfulness techniques. Let's go see him now!,775,8,9\n",
    "\n",
    "        #     Score: 'Good Response'\n",
    "\n",
    "        #     Example2:\n",
    "        #     User: I'm feeling really sad because my relationship isn't going well. Is there anything that could help comfort me?\n",
    "        #     Agent: Sorry for hearing that. Maybe you can try to talk to bizy, he might have some good advice for you.\n",
    "\n",
    "        #     Score: 'Bad Response'\n",
    "\n",
    "        #     Example3:\n",
    "        #     User: I'm feeling really sad because my relationship isn't going well. Is there anything that could help comfort me?\n",
    "        #     Agent: It sounds like you’re going through a tough time, and that’s completely valid. Don't forget to care for yourself and seek support from friends or family. It’s okay to give yourself time to work through everything. You’re not alone in this!\n",
    "        #     Score: 'Perfactly Match'\n",
    "        # '''\n",
    "        prompt = \"\"\n",
    "\n",
    "        with open(f'./evaluator/{agentName}/{agentName}_eval.txt', 'r') as file:\n",
    "            prompt += 'Information:\\n' + file.read() + '\\n'\n",
    "\n",
    "        with open(f'./evaluator/{agentName}/scenario{scenarioID}.txt', 'r') as file:\n",
    "            prompt += file.read()\n",
    "\n",
    "        dialogue = '\\n'.join(dialogues)\n",
    "        prompt += 'Dialogue:\\n' + dialogue + '\\n'\n",
    "        \n",
    "        message = [\n",
    "            {'role': 'system', 'content': overall_systemPrompt},\n",
    "            {'role': 'assistant', 'content': prompt}\n",
    "        ]\n",
    "\n",
    "        response = client.chat.completions.create(\n",
    "            model=\"gpt-4o-mini\",\n",
    "            messages=message,\n",
    "            response_format={\n",
    "                'type': 'json_schema',\n",
    "                'json_schema': \n",
    "                    {\n",
    "                        \"name\":\"whocares\", \n",
    "                        \"schema\": OverallEvaluatorResponse.model_json_schema()\n",
    "                    }\n",
    "            }\n",
    "        )\n",
    "\n",
    "        message = json.loads(response.choices[0].message.content)\n",
    "        print(message)\n",
    "        return message['type'], message['reason']\n",
    "        \n"
   ]
  },
  {
   "cell_type": "code",
   "execution_count": 96,
   "metadata": {},
   "outputs": [
    {
     "name": "stdout",
     "output_type": "stream",
     "text": [
      "{'type': 'Perfectly Match', 'reason': 'Introduced app features and suggested meeting Bruno for stress relief.'}\n"
     ]
    },
    {
     "data": {
      "text/plain": [
       "('Perfectly Match',\n",
       " 'Introduced app features and suggested meeting Bruno for stress relief.')"
      ]
     },
     "execution_count": 96,
     "metadata": {},
     "output_type": "execute_result"
    }
   ],
   "source": [
    "dialogue = ['user: What does this app do?', 'agent: This app is here to connect you with friendly animal specialists who can help you with various challenges! Whether it\\'s stress, procrastination, or making friends, we\\'ve got furry and buzzing friends ready to lend a paw or wing!', 'user+ How can you help me?', 'agent: What are you struggling with right now? Whether it\\'s stress, procrastination, or something else, I can introduce you to the perfect animal specialist!', 'user :I\\'m not sure yet, but I would like to find something to help with stress.', 'agent: I have just the friend for you! Meet Bruno, the mindfulness master bear who can help you find calm and tackle stress—would you like to chat with him?', 'user: Yes, I would love to chat with Bruno and learn how to tackle stress!', 'agent: Fantastic! Bruno is waiting for you, ready to share his peaceful paws and calming wisdom. Get ready to relax and unwind!']\n",
    "evaluator = Evaluator(agentName = 'sparky', scenarioID = 1)\n",
    "evaluator.overall_evaluate(dialogue, 'sparky', 1)"
   ]
  },
  {
   "cell_type": "code",
   "execution_count": 97,
   "metadata": {},
   "outputs": [
    {
     "data": {
      "text/plain": [
       "(0, 0)"
      ]
     },
     "execution_count": 97,
     "metadata": {},
     "output_type": "execute_result"
    }
   ],
   "source": [
    "test = Evaluator(AGENT_NAME, SCENARIO_ID)\n",
    "test.evaluate('What does this app do?', 'I do not know')"
   ]
  },
  {
   "cell_type": "code",
   "execution_count": 98,
   "metadata": {},
   "outputs": [],
   "source": [
    "import pandas as pd\n",
    "class Report():\n",
    "    def __init__(self) -> None:\n",
    "        self.finish = True\n",
    "        self.chatHistory = []\n",
    "\n",
    "    def addHistory(self, chat):\n",
    "        self.chatHistory.append(chat)\n",
    "    \n",
    "    def generateReport(self, filename:str):\n",
    "        df = pd.DataFrame(self.chatHistory)\n",
    "        df.to_csv(f'{filename}.csv', index=False)"
   ]
  },
  {
   "cell_type": "code",
   "execution_count": 99,
   "metadata": {},
   "outputs": [],
   "source": [
    "MAX_TOKEN = 6000\n",
    "MAX_CHAT = 10\n",
    "SCENARIO_ID = 1\n",
    "PERSONA = 'emma'\n",
    "AGENT_NAME = 'sparky'\n",
    "PROMPT_VERSION = 'V1'\n"
   ]
  },
  {
   "cell_type": "code",
   "execution_count": 112,
   "metadata": {},
   "outputs": [
    {
     "name": "stderr",
     "output_type": "stream",
     "text": [
      "  4%|▍         | 1/23 [00:22<08:16, 22.57s/it]"
     ]
    },
    {
     "name": "stdout",
     "output_type": "stream",
     "text": [
      "{'type': 'Perfectly Match', 'reason': 'Suggested meeting Bruno for relaxation techniques aligns with expected behavior.'}\n",
      "3922 4\n"
     ]
    },
    {
     "name": "stderr",
     "output_type": "stream",
     "text": [
      "  9%|▊         | 2/23 [00:33<05:27, 15.60s/it]"
     ]
    },
    {
     "name": "stdout",
     "output_type": "stream",
     "text": [
      "{'type': 'Good Response', 'reason': 'Introduces Bruno but lacks practical meditation examples.'}\n",
      "1786 2\n"
     ]
    },
    {
     "name": "stderr",
     "output_type": "stream",
     "text": [
      " 13%|█▎        | 3/23 [00:53<05:52, 17.65s/it]"
     ]
    },
    {
     "name": "stdout",
     "output_type": "stream",
     "text": [
      "{'type': 'Perfectly Match', 'reason': \"Proactively identified user's need for relaxation and suggested a specific feature.\"}\n",
      "2772 3\n"
     ]
    },
    {
     "name": "stderr",
     "output_type": "stream",
     "text": [
      " 17%|█▋        | 4/23 [01:19<06:42, 21.19s/it]"
     ]
    },
    {
     "name": "stdout",
     "output_type": "stream",
     "text": [
      "{'type': 'Bad Response', 'reason': 'The agent redirected to another character instead of continuing the conversation.'}\n",
      "4953 5\n"
     ]
    },
    {
     "name": "stderr",
     "output_type": "stream",
     "text": [
      " 22%|██▏       | 5/23 [01:33<05:30, 18.38s/it]"
     ]
    },
    {
     "name": "stdout",
     "output_type": "stream",
     "text": [
      "{'type': 'Perfectly Match', 'reason': 'Introduced Bruno for relaxation techniques as expected.'}\n",
      "1841 2\n"
     ]
    },
    {
     "name": "stderr",
     "output_type": "stream",
     "text": [
      " 26%|██▌       | 6/23 [01:48<04:50, 17.10s/it]"
     ]
    },
    {
     "name": "stdout",
     "output_type": "stream",
     "text": [
      "{'type': 'Perfectly Match', 'reason': 'The agent effectively guided the user to Bizy for time management advice.'}\n",
      "1837 2\n"
     ]
    },
    {
     "name": "stderr",
     "output_type": "stream",
     "text": [
      " 30%|███       | 7/23 [02:24<06:14, 23.42s/it]"
     ]
    },
    {
     "name": "stdout",
     "output_type": "stream",
     "text": [
      "{'type': 'Perfectly Match', 'reason': 'Offered encouraging words and motivational techniques throughout the conversation.'}\n",
      "6641 6\n"
     ]
    },
    {
     "name": "stderr",
     "output_type": "stream",
     "text": [
      " 35%|███▍      | 8/23 [02:35<04:53, 19.54s/it]"
     ]
    },
    {
     "name": "stdout",
     "output_type": "stream",
     "text": [
      "{'type': 'Perfectly Match', 'reason': 'Introduced Bruno for relaxation and focus techniques.'}\n",
      "1821 2\n"
     ]
    },
    {
     "name": "stderr",
     "output_type": "stream",
     "text": [
      " 39%|███▉      | 9/23 [02:47<03:58, 17.04s/it]"
     ]
    },
    {
     "name": "stdout",
     "output_type": "stream",
     "text": [
      "{'type': 'Perfectly Match', 'reason': 'Agent guided the user to Bizy for time management strategies.'}\n",
      "1858 2\n"
     ]
    },
    {
     "name": "stderr",
     "output_type": "stream",
     "text": [
      " 43%|████▎     | 10/23 [03:26<05:08, 23.76s/it]"
     ]
    },
    {
     "name": "stdout",
     "output_type": "stream",
     "text": [
      "{'type': 'Perfectly Match', 'reason': 'Provides encouragement and positive reinforcement throughout the conversation.'}\n",
      "6353 6\n"
     ]
    },
    {
     "name": "stderr",
     "output_type": "stream",
     "text": [
      " 48%|████▊     | 11/23 [04:04<05:37, 28.12s/it]"
     ]
    },
    {
     "name": "stdout",
     "output_type": "stream",
     "text": [
      "{'type': 'Good Response', 'reason': 'Encourages user but lacks direct tips for teamwork improvement.'}\n",
      "6499 6\n"
     ]
    },
    {
     "name": "stderr",
     "output_type": "stream",
     "text": [
      " 52%|█████▏    | 12/23 [04:17<04:19, 23.58s/it]"
     ]
    },
    {
     "name": "stdout",
     "output_type": "stream",
     "text": [
      "{'type': 'Perfectly Match', 'reason': 'Guided user to Bizy for time management assistance.'}\n",
      "1812 2\n"
     ]
    },
    {
     "name": "stderr",
     "output_type": "stream",
     "text": [
      " 57%|█████▋    | 13/23 [04:36<03:42, 22.27s/it]"
     ]
    },
    {
     "name": "stdout",
     "output_type": "stream",
     "text": [
      "{'type': 'Perfectly Match', 'reason': 'Guides the student to Bizy for task breakdown and management.'}\n",
      "2843 3\n"
     ]
    },
    {
     "name": "stderr",
     "output_type": "stream",
     "text": [
      " 61%|██████    | 14/23 [05:04<03:36, 24.08s/it]"
     ]
    },
    {
     "name": "stdout",
     "output_type": "stream",
     "text": [
      "{'type': 'Bad Response', 'reason': \"Didn't guide to relaxation techniques or improve study environment.\"}\n",
      "3955 4\n"
     ]
    },
    {
     "name": "stderr",
     "output_type": "stream",
     "text": [
      " 65%|██████▌   | 15/23 [05:38<03:36, 27.06s/it]"
     ]
    },
    {
     "name": "stdout",
     "output_type": "stream",
     "text": [
      "{'type': 'Bad Response', 'reason': 'Did not guide to Bruno or provide additional creativity tips.'}\n",
      "6370 6\n"
     ]
    },
    {
     "name": "stderr",
     "output_type": "stream",
     "text": [
      " 70%|██████▉   | 16/23 [06:02<03:03, 26.17s/it]"
     ]
    },
    {
     "name": "stdout",
     "output_type": "stream",
     "text": [
      "{'type': 'Good Response', 'reason': 'Suggests a helpful resource, but lacks direct communication tips.'}\n",
      "4040 4\n"
     ]
    },
    {
     "name": "stderr",
     "output_type": "stream",
     "text": [
      " 74%|███████▍  | 17/23 [06:16<02:13, 22.33s/it]"
     ]
    },
    {
     "name": "stdout",
     "output_type": "stream",
     "text": [
      "{'type': 'Perfectly Match', 'reason': 'Guided user to Bizy for time management strategies.'}\n",
      "1859 2\n"
     ]
    },
    {
     "name": "stderr",
     "output_type": "stream",
     "text": [
      " 78%|███████▊  | 18/23 [06:51<02:11, 26.36s/it]"
     ]
    },
    {
     "name": "stdout",
     "output_type": "stream",
     "text": [
      "{'type': 'Perfectly Match', 'reason': 'Suggested active learning methods and encouraged exploration.'}\n",
      "6394 6\n"
     ]
    },
    {
     "name": "stderr",
     "output_type": "stream",
     "text": [
      " 83%|████████▎ | 19/23 [07:05<01:29, 22.44s/it]"
     ]
    },
    {
     "name": "stdout",
     "output_type": "stream",
     "text": [
      "{'type': 'Perfectly Match', 'reason': 'Guided user to Bruno for mindfulness meditation to address anxiety.'}\n",
      "1828 2\n"
     ]
    },
    {
     "name": "stderr",
     "output_type": "stream",
     "text": [
      " 87%|████████▋ | 20/23 [07:19<00:59, 19.91s/it]"
     ]
    },
    {
     "name": "stdout",
     "output_type": "stream",
     "text": [
      "{'type': 'Perfectly Match', 'reason': 'Provided emotional support and encouraged a comforting experience with Bruno.'}\n",
      "1818 2\n"
     ]
    },
    {
     "name": "stderr",
     "output_type": "stream",
     "text": [
      " 91%|█████████▏| 21/23 [07:33<00:36, 18.27s/it]"
     ]
    },
    {
     "name": "stdout",
     "output_type": "stream",
     "text": [
      "{'type': 'Perfectly Match', 'reason': 'Introduces Bruno for bedtime meditation methods.'}\n",
      "1817 2\n"
     ]
    },
    {
     "name": "stderr",
     "output_type": "stream",
     "text": [
      " 96%|█████████▌| 22/23 [07:54<00:18, 18.96s/it]"
     ]
    },
    {
     "name": "stdout",
     "output_type": "stream",
     "text": [
      "{'type': 'Good Response', 'reason': 'Suggesting relaxation techniques may indirectly help with confidence.'}\n",
      "2863 3\n"
     ]
    },
    {
     "name": "stderr",
     "output_type": "stream",
     "text": [
      "100%|██████████| 23/23 [08:25<00:00, 21.96s/it]"
     ]
    },
    {
     "name": "stdout",
     "output_type": "stream",
     "text": [
      "{'type': 'Perfectly Match', 'reason': 'Guided user to Bruno for calming techniques and communication skills.'}\n",
      "5318 5\n"
     ]
    },
    {
     "name": "stderr",
     "output_type": "stream",
     "text": [
      "\n"
     ]
    }
   ],
   "source": [
    "from tqdm import trange\n",
    "\n",
    "overall_evaluate = []\n",
    "animal = Animal(name= AGENT_NAME, version= PROMPT_VERSION)\n",
    "\n",
    "for i in trange(1,24):\n",
    "\n",
    "    SCENARIO_ID = i\n",
    "    person = Person(scenarioID = SCENARIO_ID, persona = PERSONA)\n",
    "    # animal = Animal(name= AGENT_NAME)\n",
    "    animal.create_thread()\n",
    "    evaluator = Evaluator(agentName= AGENT_NAME, scenarioID= SCENARIO_ID)\n",
    "    report = Report()\n",
    "\n",
    "    totalToken = 0\n",
    "    totalChat = 0\n",
    "    dialogue = []\n",
    "\n",
    "    while not person.leaveChat:\n",
    "        # chat\n",
    "        personMessage, personInfo = person.say()\n",
    "        animal.listen(personMessage)\n",
    "        animalMessage, animalInfo = animal.say()\n",
    "        #animalMessage, animmalProblem, animalInfo = animal.say()\n",
    "        person.listen(animalMessage)\n",
    "\n",
    "        # print(f'User: {personMessage}\\nAgent: {animalMessage}')\n",
    "        # print(f'user leave chat: {person.leaveChat}')\n",
    "\n",
    "        # metrics\n",
    "        accuracy, practicality = evaluator.evaluate(personMessage, animalMessage)\n",
    "        # print(f'Accuracy: {accuracy}, Practicality: {practicality}\\n')\n",
    "        \n",
    "        history = {\n",
    "            'person_say': personMessage,\n",
    "            'user_problem': animmalProblem,\n",
    "            'animal_action': animalInfo['action'],\n",
    "            'animal_say': animalMessage,\n",
    "            'animal_token': animalInfo['token'],\n",
    "            'accuracy': accuracy,\n",
    "            'practicality': practicality,\n",
    "        }\n",
    "        dialogue.append(f'user: {personMessage}, agent: {animalMessage}')\n",
    "\n",
    "        report.addHistory(history)\n",
    "        totalChat += 1\n",
    "        totalToken += animalInfo['token']\n",
    "\n",
    "        if totalToken > MAX_TOKEN or totalChat > MAX_CHAT:\n",
    "            report.finish = False\n",
    "            break\n",
    "\n",
    "    report.generateReport(filename=f'report_{AGENT_NAME}_{SCENARIO_ID}')\n",
    "    \n",
    "    classification = evaluator.overall_evaluate(dialogue, AGENT_NAME, SCENARIO_ID)\n",
    "    overall_evaluate.append(classification)\n",
    "    \n",
    "    print(totalToken, totalChat)\n"
   ]
  },
  {
   "cell_type": "code",
   "execution_count": 113,
   "metadata": {},
   "outputs": [
    {
     "name": "stdout",
     "output_type": "stream",
     "text": [
      "Assistant sparky deleted.\n"
     ]
    }
   ],
   "source": [
    "animal.delete_assistant()"
   ]
  },
  {
   "cell_type": "code",
   "execution_count": 114,
   "metadata": {},
   "outputs": [],
   "source": [
    "file_path = f'{AGENT_NAME}_{PROMPT_VERSION}_overall_evaluate.csv'\n",
    "\n",
    "df = pd.DataFrame(overall_evaluate, columns=['type', 'reason'])\n",
    "df.insert(0, 'scenario_id', range(1, len(df) + 1))\n",
    "\n",
    "df.to_csv(file_path, index=False)"
   ]
  }
 ],
 "metadata": {
  "kernelspec": {
   "display_name": "fauanTest",
   "language": "python",
   "name": "python3"
  },
  "language_info": {
   "codemirror_mode": {
    "name": "ipython",
    "version": 3
   },
   "file_extension": ".py",
   "mimetype": "text/x-python",
   "name": "python",
   "nbconvert_exporter": "python",
   "pygments_lexer": "ipython3",
   "version": "3.12.5"
  }
 },
 "nbformat": 4,
 "nbformat_minor": 2
}
